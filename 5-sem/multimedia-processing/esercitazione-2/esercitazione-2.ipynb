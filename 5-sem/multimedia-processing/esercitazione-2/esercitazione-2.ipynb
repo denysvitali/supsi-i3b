{
 "cells": [
  {
   "attachments": {},
   "cell_type": "markdown",
   "metadata": {},
   "source": [
    "# Esercitazione 2\n",
    "## Esercizio 1 - Analisi dello spettro\n",
    "\n",
    "### Sine\n",
    "#### Sine 100 Hz\n",
    "![Sine 100 Hz](sine_100.png)\n",
    "#### Sine 500 Hz\n",
    "![Sine 500 Hz](sine_500.png)\n",
    "\n",
    "#### Sine 1kHz\n",
    "![Sine 1kHz](sine_1000.png)\n",
    "\n",
    "#### Sine 5kHz\n",
    "![Sine 5 kHz](sine_5000.png)\n",
    "\n",
    "#### Sine 10kHz\n",
    "![Sine 10 kHz](sine_10000.png)\n",
    "\n",
    "#### Sine 15kHz\n",
    "![Sine 15 kHz](sine_15000.png)\n",
    "\n",
    "#### Sine 20kHz\n",
    "![Sine 20 kHz](sine_20000.png)\n",
    "\n",
    "#### Conclusione\n",
    "Possiamo chiaramente notare come la sinusoide risulti in una distribuzione gaussiana con picco nella frequenza della sinusoide"
   ]
  }
 ],
 "metadata": {
  "kernelspec": {
   "display_name": "Python 3",
   "language": "python",
   "name": "python3"
  },
  "language_info": {
   "codemirror_mode": {
    "name": "ipython",
    "version": 3
   },
   "file_extension": ".py",
   "mimetype": "text/x-python",
   "name": "python",
   "nbconvert_exporter": "python",
   "pygments_lexer": "ipython3",
   "version": "3.7.0"
  }
 },
 "nbformat": 4,
 "nbformat_minor": 2
}
