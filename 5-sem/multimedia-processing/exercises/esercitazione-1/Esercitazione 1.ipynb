{
 "cells": [
  {
   "attachments": {},
   "cell_type": "markdown",
   "metadata": {},
   "source": [
    "# Esercitazione 1\n",
    "## Esercizio\n",
    "\n",
    "### Analisi del segnale\n",
    "Apriamo il segnale da analizzare con [Audacity](https://www.audacityteam.org/).  \n",
    "Ascoltandolo possiamo chiaramente riconoscere una sequenza di tasti premuti su un tastierino telefonico, anche conosciuto come [DTMF](https://en.wikipedia.org/wiki/Dual-tone_multi-frequency_signaling)  \n",
    "  \n",
    "#### Analisi dello spettro di frequenze\n",
    "Analizzandone lo spettro di frequenze, possiamo notare come la sequenza appare in modo relativamente chiaro. Possiamo altresì notare che il segnale contiene molto rumore.\n",
    "\n",
    "![Spettro di Frequenze](spectrogram-1.png)  \n",
    "  \n",
    "#### Pulizia del segnale\n",
    "Possiamo ora procedere alla rimozione del rumore di fondo, prendendo un campione di rumore ed utilizzando la funzionalità di *Noise Reduction* offerta da Audacity.\n",
    "\n",
    "![Riduzione del rumore - campionamento](noise-reduction-1.png)  \n",
    "\n",
    "Prendiamo dapprima un campione del rumore, selezioniamo `Effect => Noise Reduction => Get Noise Profile` per ottenere un profilo del rumore. Selezioniamo ora la traccia intera, riapriamo il menù di riduzione del rumore ed impostiamo i parametri in modo da ottenere solo i toni DTMF quando clicchiamo su \"Preview\" (nel mio caso, Noise Reduction impostata a 48dB, Sensitivity impostata a 19.50 e frequency smoothing a 0)\n",
    "\n",
    "Otteniamo così uno spettrogramma decisamente più pulito, e possiamo quindi procedere all'analisi:  \n",
    "  \n",
    "![Spettrogramma \"pulito\"](spectrogram-2.png)\n",
    "  \n",
    "  \n",
    "#### Analisi dei toni\n",
    "Possiamo ora procedere all'analisi dei toni nel modo seguente: selezioniamo una parte del segnale nel quale è visibilmente presente un picco di una o più frequenze (parte più rossa nello spettrogramma precedente). Dopodiché usiamo lo strumento \"Plot Spectrum\" in \"Analyze\" e ricaviamo le frequenze analizzando i picchi:  \n",
    "  \n",
    "![Plot Spectrum](plot-spectrum.png)\n",
    "   \n",
    "     \n",
    "In questo caso, possiamo ricavare le due frequenze dominanti, che risultano essere 853 Hz (-19.9 dB) e 1477 Hz (-18.2 db).  \n",
    "Confrontandole con la tabella DTMF, possiamo dire con certezza che il primo tono rappresenta un 9.\n",
    "\n",
    "| | 1209 Hz | 1336 Hz | 1477 Hz | 1644 Hz |\n",
    "|-|------------|------------|------------|-------------|\n",
    "|697 Hz | 1 | 2 | 3 | A |\n",
    "|770 Hz | 4 | 5 | 6 | B |\n",
    "|852 Hz | 7 | 8 | **9** | C |\n",
    "|941 Hz | * | 0 | # | D |\n",
    "\n",
    "Possiamo ricavare allo stesso modo il resto della sequenza, che risulta essere:  \n",
    "9, 3, 3, 5, 5, 5, 5, 5, 5, ?, 3, 6, 6, 6, 6, 6, 3, 3  \n",
    "Se però consideriamo singoli i numeri, allora la sequenza diventa:  \n",
    "9, 3, 5, 5, ?, 3, 6, 6, 3\n",
    "\n",
    "### Ipotesi di risoluzione del problema\n",
    "Per risolvere il problema, si potrebbe analizzare il file wav tramite un software, effettuare l'FFT e ricavare il picco di frequenze, confrontandolo alla lista di frequenze ammesse dal DTMF. Se risulta una combinazione valida, possiamo salvarla, altrimenti la ignoriamo."
   ]
  }
 ],
 "metadata": {
  "kernelspec": {
   "display_name": "Python 3",
   "language": "python",
   "name": "python3"
  },
  "language_info": {
   "codemirror_mode": {
    "name": "ipython",
    "version": 3
   },
   "file_extension": ".py",
   "mimetype": "text/x-python",
   "name": "python",
   "nbconvert_exporter": "python",
   "pygments_lexer": "ipython3",
   "version": "3.7.0"
  }
 },
 "nbformat": 4,
 "nbformat_minor": 2
}
