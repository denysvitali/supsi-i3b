{
 "cells": [
  {
   "cell_type": "markdown",
   "metadata": {},
   "source": [
    "# Lesson 3"
   ]
  },
  {
   "cell_type": "code",
   "execution_count": null,
   "metadata": {},
   "outputs": [],
   "source": [
    "import matplotlib.pyplot as plt\n",
    "\n",
    "import plotly.plotly as py\n",
    "import plotly.graph_objs as go\n",
    "\n",
    "from scipy.io import wavfile # get the api\n",
    "from scipy.fftpack import fft\n",
    "from pylab import *\n",
    "import glob\n",
    "import numpy as np\n",
    "\n",
    "def f(filename):\n",
    "    print(f\"Parsing {filename}\")\n",
    "    fs, data = wavfile.read(filename)\n",
    "\n",
    "    plt.clf()\n",
    "    plt.cla()\n",
    "\n",
    "    lf = abs(np.fft.rfft(data))\n",
    "\n",
    "    b = plt.subplot(111)\n",
    "    #b.set_xscale('log')\n",
    "    b.set_xlabel('frequency [Hz]')\n",
    "    b.set_ylabel('|amplitude|')\n",
    "    #plt.plot(lf)\n",
    "    \n",
    "    data = [go.Scattergl(y=lf)]\n",
    "\n",
    "    py.iplot(data)\n",
    "    \n",
    "    #plt.savefig(filename + '.png')\n",
    "\n",
    "f('noise_white.wav')"
   ]
  }
 ],
 "metadata": {
  "kernelspec": {
   "display_name": "Python 3",
   "language": "python",
   "name": "python3"
  },
  "language_info": {
   "codemirror_mode": {
    "name": "ipython",
    "version": 3
   },
   "file_extension": ".py",
   "mimetype": "text/x-python",
   "name": "python",
   "nbconvert_exporter": "python",
   "pygments_lexer": "ipython3",
   "version": "3.7.0"
  }
 },
 "nbformat": 4,
 "nbformat_minor": 2
}
