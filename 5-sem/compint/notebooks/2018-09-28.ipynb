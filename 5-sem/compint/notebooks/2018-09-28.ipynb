{
 "cells": [
  {
   "cell_type": "markdown",
   "metadata": {},
   "source": [
    "## 2018-09-28\n",
    "\n",
    "### Priorità degli operatori\n",
    "$4 -3 * 8$  \n",
    "$(4-3) * 8$  \n",
    "  \n",
    "$3*8 - 4 = (3*(8-4))$  \n",
    "  \n",
    "#### Possiamo provare con il seguente linguaggio\n",
    "`E ::= ( E ) | E - E | E * E | NUM `\n",
    "Sfortunatamente però, questa soluzione non ci permette di distinguere casi del tipo `E - E -E` (la costruzione dell'albero come viene effettuata?) e non ci permette di prioritarizzare la moltiplicazione.\n",
    "\n",
    "#### Un linguaggio migliorato\n",
    "Definiamo quindi il linguaggio come segue:  \n",
    "```E ::= E - T | T .\n",
    "T ::= T * F | F .\n",
    "F ::= Num | ( E ) .```\n",
    "\n",
    "```java\n",
    "void parseE() {\n",
    "    if(leftBranch()){\n",
    "        parseE();\n",
    "        checkAndNext(Minus);\n",
    "        parseT();\n",
    "    } else {\n",
    "        parseT();\n",
    "    }\n",
    "}\n",
    "```\n",
    "\n",
    "Questo linguaggio però ha un problema: E è ricorsiva su se stessa."
   ]
  },
  {
   "cell_type": "markdown",
   "metadata": {},
   "source": [
    "I parser visti nel nostro corso sono Top-Down, perché quelli Bottom-Up sono troppo complicati per essere visti in questo corso."
   ]
  },
  {
   "cell_type": "markdown",
   "metadata": {},
   "source": [
    "#### Un linguaggio ancora più migliorato\n",
    "$E ::= T\\ (\\fbox{-} T)^*\\\\\n",
    "T ::= F (\\fbox{*}F)^*\\\\\n",
    "F ::= \\fbox{Num} | \\fbox{(} E \\fbox{)}$"
   ]
  },
  {
   "cell_type": "markdown",
   "metadata": {},
   "source": [
    "#### Risolviamo il problema della ricorsione\n",
    "$E ::= E\\ -\\ T\\ |\\ T$  \n",
    "diventa  \n",
    "$E ::=\\ T\\ E'$\n",
    "  \n",
    "$E' ::= -\\ T\\ E'\\ |\\ \\varepsilon$\n",
    "\n",
    "In questo modo trasformiamo la nostra _left-recursion_ in una _right-recursion_.  \n",
    "Sfortunatamente Java non è un linguaggio funzionale, e dunque questa ricorsione potrebbe riportare dei problemi con grossi quantitativi di testo (nel nostro caso non causerà problemi), andando in stack overflow.\n",
    "\n",
    "A livello pratico, utilizzeremo il while (non tanto per un problema di stack overflow, quanto per non aggiungere variabili addizionali (E' ?)"
   ]
  },
  {
   "cell_type": "markdown",
   "metadata": {},
   "source": [
    "#### Grammatica del nostro linguaggio di blocchi\n",
    "$ \\text{Block} ::= \\text{VertBlock}\\ \\text{EOF}. $  \n",
    "$\\text{VertBlock} ::= \\text{HorizBlock}\\ ( \"|\" \\text{HorizBlock})^* .$  \n",
    "$\\text{HorizBlock} ::= \\text{RectBlock}\\ ( \"-\" \\text{Block} )^*.$  \n",
    "$\\text{PrimaryBlock} ::= \\text{RectBlock}\\ |\\ \"(\" \\text{RectBlock} \")\"$  \n",
    "$\\text{RectBlock} ::= \\text{Num}\\ \\text{\"*\"}\\ \\text{Num}.$\n",
    "  \n",
    "**Terminali**: EOF, | - ) ( * Num"
   ]
  },
  {
   "cell_type": "markdown",
   "metadata": {},
   "source": [
    "Tokenizer: Elemento del compilatore che prende caratteri e ritorna un token (e.g: da una serie di numeri ritorna un numero)"
   ]
  }
 ],
 "metadata": {
  "kernelspec": {
   "display_name": "Python 3",
   "language": "python",
   "name": "python3"
  },
  "language_info": {
   "codemirror_mode": {
    "name": "ipython",
    "version": 3
   },
   "file_extension": ".py",
   "mimetype": "text/x-python",
   "name": "python",
   "nbconvert_exporter": "python",
   "pygments_lexer": "ipython3",
   "version": "3.7.0"
  }
 },
 "nbformat": 4,
 "nbformat_minor": 2
}
