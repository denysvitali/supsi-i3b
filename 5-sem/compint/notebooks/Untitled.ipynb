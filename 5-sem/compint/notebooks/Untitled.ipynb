{
 "cells": [
  {
   "cell_type": "markdown",
   "metadata": {},
   "source": [
    "# 2018-10-12\n",
    "\n",
    "## Context-Free Grammars\n",
    "  \n",
    "$E ::=\\ T\\ \\fbox{+}\\ E$  \n",
    "$E ::=\\ \\underline{\\text{token}}^*$\n",
    "\n",
    "## FSM Det vs Non-Det\n",
    "\n",
    "Det: In ogni stato so che freccia seguire  \n",
    "Non-Det: Posso avere stati con \"eventi\" uguali che portano a stati differenti"
   ]
  },
  {
   "cell_type": "markdown",
   "metadata": {},
   "source": [
    "## Tipi di Regexp\n",
    "  \n",
    "- Regexp che accettano un solo carattere: $\\text{RE}_1 = a$  \n",
    "- Regexp che accettano uno o più caratteri: $\\text{RE}_2 = a^*b^*$  \n",
    "- Regexp (di branching?): $\\text{RE}_3 = a | b$  "
   ]
  },
  {
   "cell_type": "markdown",
   "metadata": {},
   "source": [
    "## NFA -> DFA transformation\n",
    "$(a|b)^* aab$  \n",
    "![NFA](files/nfa-1.svg)\n",
    "  \n",
    "| | a | b |\n",
    "|:-|:---|:---|\n",
    "|A = {0,1,2,4,7} | B={1,2,3,4,6,7,8} | C={1,2,4,5,6,7} |\n",
    "|B = {0,1,2,4,7} | B={1,2,3,4,6,7,8} | D = {1,2,4,5,6,7,9} |\n",
    "|C = {1,2,4,5,6,7} | B={1,2,3,4,6,7,8} | C={1,2,4,5,6,7} |\n",
    "|D = {1,2,4,5,6,7,9} | B={1,2,3,4,6,7,8} | E = {1,2,4,5,6,7,10} |\n",
    "|E = {1,2,4,5,6,7,10} | B={1,2,3,4,6,7,8} | C={1,2,4,5,6,7} |"
   ]
  },
  {
   "cell_type": "markdown",
   "metadata": {},
   "source": [
    "### DFA, tabular form\n",
    "| | a | b |\n",
    "|-|---|----|\n",
    "|A| B | C |\n",
    "|B| B | D |\n",
    "|C| B | C |\n",
    "|D| B | E |\n",
    "|E| B | C |"
   ]
  }
 ],
 "metadata": {
  "kernelspec": {
   "display_name": "Python 3",
   "language": "python",
   "name": "python3"
  },
  "language_info": {
   "codemirror_mode": {
    "name": "ipython",
    "version": 3
   },
   "file_extension": ".py",
   "mimetype": "text/x-python",
   "name": "python",
   "nbconvert_exporter": "python",
   "pygments_lexer": "ipython3",
   "version": "3.7.0"
  }
 },
 "nbformat": 4,
 "nbformat_minor": 2
}
