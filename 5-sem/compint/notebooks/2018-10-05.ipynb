{
 "cells": [
  {
   "cell_type": "markdown",
   "metadata": {},
   "source": [
    "# Lesson 3"
   ]
  },
  {
   "cell_type": "markdown",
   "metadata": {},
   "source": [
    "## Tower of Hanoi"
   ]
  },
  {
   "cell_type": "markdown",
   "metadata": {},
   "source": [
    "## Parser Language\n",
    "\n",
    "ks language (EBNF)\n",
    "\n",
    "\n",
    "\n",
    "### Productions (rules)\n",
    "\n",
    "$\\text{Expr} ::=\\ \\text{VertExpr}\\ \\fbox{EOS} .$  \n",
    "$\\text{VertExpr} ::= \\text{HorizExpr}\\ (\\ \\fbox{|}\\ \\text{HorizExpr})* .$  \n",
    "$\\text{HorizExpr} ::= \\text{PrimaryExpr}\\ (\\ \\fbox{-}\\ \\text{PrimaryExpr})* .$  \n",
    "$\\text{PrimaryExpr} ::= \\text{ParenExpr}\\ |\\ \\text{RectExpr} .$  \n",
    "$\\text{ParenExpr} ::=\\ \\fbox{(}\\ \\text{VertExpr}\\ \\fbox{)} .$    \n",
    "$\\text{RectExpr} ::= \\text{Num}\\ \\fbox{*}\\ \\text{Num} .$ \n",
    "  \n",
    "  \n",
    "\n",
    "### Terminals (tokens)\n",
    "\n",
    "Eos, Num, \"|\", \"-\", \"*\", \")\", \"(\"  "
   ]
  }
 ],
 "metadata": {
  "kernelspec": {
   "display_name": "Python 3",
   "language": "python",
   "name": "python3"
  },
  "language_info": {
   "codemirror_mode": {
    "name": "ipython",
    "version": 3
   },
   "file_extension": ".py",
   "mimetype": "text/x-python",
   "name": "python",
   "nbconvert_exporter": "python",
   "pygments_lexer": "ipython3",
   "version": "3.7.0"
  }
 },
 "nbformat": 4,
 "nbformat_minor": 2
}
