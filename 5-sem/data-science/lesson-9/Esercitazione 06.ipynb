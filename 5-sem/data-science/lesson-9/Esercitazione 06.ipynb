{
 "cells": [
  {
   "cell_type": "markdown",
   "metadata": {},
   "source": [
    "# Esercitazione 6"
   ]
  },
  {
   "cell_type": "markdown",
   "metadata": {},
   "source": [
    "## Istruzioni\n",
    "Valgono le stesse istruzioni delle esercitazioni precedenti. \n",
    "\n",
    "Scrivi il programma Python nella cella sotto il testo dell'esercizio (o creane una nuova). Stampa sempre a video il risultato finale per verificare la correttezza dell'esercizio.  Talvolta richiamiamo alcuni concetti importanti in una cella di codice sotto il testo dell'esercizio, prova a eseguirla ed eventualmente modificarla per assicurarti di aver capito il necessario.\n",
    "\n",
    "**Nota.** Alcuni esercizi potrebbero richiedere una semplice risposta a delle domande. In questo caso potete scrivere la soluzione in una cella di tipo \"Markdown\".  \n",
    "\n",
    "\n",
    "## Consegna\n",
    "Valgono le regole delle esercitazioni precedenti.\n",
    "\n",
    "E' obbligatorio **consegnare la soluzione di tutti gli esercizi** (tranne quelli marcati come opzionali) **entro l'inizio della lezione successiva** (in questo caso entro Lunedi' prossimo), nell'apposito assignment su iCorsi.  Per consegnare:\n",
    "- eseguire l'intero notebook partendo da zero (`Kernel -> Restart & Run All`), e controllare che le soluzioni siano quelle attese;\n",
    "- esportare il notebook in formato html (`File -> Download as...`) e consegnare il file risultante.\n",
    "\n",
    "Nel caso non abbiate potuto completare uno o piu' esercizi, descrivete il problema incontrato e **consegnate comunque il file con il resto delle soluzioni**."
   ]
  },
  {
   "cell_type": "markdown",
   "metadata": {},
   "source": [
    "## Esercizio 1 (da risolvere con carta, penna e semplice calcolatrice)\n",
    "\n",
    "Ci troviamo in un sottobosco e siamo alla ricerca di funghi da vendere ad un ristorante locale. Noi non siamo esperti di funghi, ma abbiamo acquistato 2 app sofisticate che, data una foto del fungo che abbiamo raccolto, ci dice se il fungo è velenoso o meno. Alla fine della giornata abbiamo raccolto 1000 funghi, e vogliamo analizzarli con le nostre app per scartare quelli velenosi, e portare quelli commestibili al ristorante. La app agisce come un classificatore con due possibili classi: positivo (il test rileva fungo velenoso), negativo (il test rileva fungo commestibile). Sappiamo inoltre, da stime statistiche passate, che il 20% dei funghi che si trovano nel sottobosco dove noi abbiamo raccolto sarà velenoso. In altre parole, 200 dei funghi che abbiamo raccolto sappiamo essere velenosi, ma non sappiamo quali.\n",
    "\n",
    "Le due app sono state testate prima di essere messe in commercio e per ognuna di esse sono stati ricavati i sequenti indici:\n",
    "APP 1: TPR = 0.98; FPR = 0.15 \n",
    "APP 2: TPR = 0.90; FPR = 0.01 \n",
    "\n",
    "Ricorda: TPR= TP/(TP+FN); FPR= FP/(TN+FP)."
   ]
  },
  {
   "cell_type": "markdown",
   "metadata": {},
   "source": [
    "## 1.1\n",
    "Scrivere la matrice di confusione per ognuna delle 2 APP. Hint: Le tabelle di confusione hanno la forma riportata nella cella sotto. Per scrivere la vostra soluzione, potete scrivere le tabelle a mano, fare una foto e trascinarla in una cella di tipo *markdown*. Oppure potete generare la tabella in Excel o LibreOffice e incollarla in una cella di tipo *markdown*."
   ]
  },
  {
   "attachments": {
    "image.png": {
     "image/png": "[encoded data removed]"
    }
   },
   "cell_type": "markdown",
   "metadata": {},
   "source": [
    "##### **Hint**\n",
    "\t\n",
    "![image.png](attachment:image.png)"
   ]
  },
  {
   "cell_type": "markdown",
   "metadata": {},
   "source": [
    "**Solution**\n",
    "<table>\n",
    "    <tr>\n",
    "    <th colspan=\"2\" rowspan=\"2\" style=\"text-align:center\">App 1</th>\n",
    "    <th colspan=\"2\">Classe Predetta</th>\n",
    "    </tr>\n",
    "    <tr>\n",
    "        <td>1</td>\n",
    "        <td>-1</td>\n",
    "    </tr>\n",
    "    <tr>\n",
    "        <td rowspan=\"2\" colspan=1 style=\"text-align:left\">Classe Misurata</td>\n",
    "        <td>1</td>\n",
    "        <td>680</td>\n",
    "        <td>120</td>\n",
    "    </tr>\n",
    "    <tr>\n",
    "        <td>-1</td>\n",
    "        <td>4</td>\n",
    "        <td>196</td>\n",
    "    </tr>\n",
    " </table>\n",
    " \n",
    "<table>\n",
    "    <tr>\n",
    "    <th colspan=\"2\" rowspan=\"2\" style=\"text-align:center\">App 2</th>\n",
    "    <th colspan=\"2\">Classe Predetta</th>\n",
    "    </tr>\n",
    "    <tr>\n",
    "        <td>1</td>\n",
    "        <td>-1</td>\n",
    "    </tr>\n",
    "    <tr>\n",
    "        <td rowspan=\"2\" colspan=1 style=\"text-align:left\">Classe Misurata</td>\n",
    "        <td>1</td>\n",
    "        <td>792</td>\n",
    "        <td>8</td>\n",
    "    </tr>\n",
    "    <tr>\n",
    "        <td>-1</td>\n",
    "        <td>20</td>\n",
    "        <td>180</td>\n",
    "    </tr>\n",
    " </table>"
   ]
  },
  {
   "cell_type": "markdown",
   "metadata": {},
   "source": [
    "### 1.2\n",
    "Calcolare l'indice di accuratezza di ciascuna app.\n",
    "\n",
    "L'app con l'indice accuratezza piu' elevato è quella da preferire? (Possibili risposte: Si', No, Non si puo' dire.)"
   ]
  },
  {
   "attachments": {},
   "cell_type": "markdown",
   "metadata": {},
   "source": [
    "**Solution**  \n",
    "\n",
    "$\\text{App1} = 0.876$  \n",
    "$\\text{App2} = 0.972$\n",
    "\n",
    "In questo caso sì, perché è anche l'app che riporta meno false positives. Nel nostro caso un false positive può portare a riportare come non velenoso un fungo che in realtà lo è, con conseguenze gravi."
   ]
  },
  {
   "cell_type": "markdown",
   "metadata": {},
   "source": [
    "### 1.3\n",
    "Ogni valuazione corretta ha un costo pari a 0, mentre ad ogni valutazione errata è associato un costo positivo. Nello specifico, un fungo commestibile che viene rilevato velenoso ha un costo pari a 5 CHF (è la perdita dovuta al fatto che non avete venduto il fungo al ristorante), mentre un fungo che viene venduto al ristorante come commestibile ma che in reltà è velenoso ha un costo pari a 100 CHF (i vostri funghi non causano decessi, ma causano mal di pancia al cliente. Il costo quantifica quindi una cattiva reputazione che puo' derivare dall'aver venduto al ristorante un fungo velenoso).\n",
    "\n",
    "Noti questi costi, quale APP preferite usare?"
   ]
  },
  {
   "cell_type": "markdown",
   "metadata": {},
   "source": [
    "**Solution**  \n",
    "\n",
    "| App 1 \t|  \t| Predetto \t|  \t|\n",
    "|----------\t|----\t|----------\t|-----\t|\n",
    "|  \t|  \t| -1 \t| 1 \t|\n",
    "| Misurato \t| -1 \t| 0 \t| 600 \t|\n",
    "|  \t| 1 \t| 4000 \t| 0 \t|\n",
    "| Costo \t|  \t| 4600 \t|  \t|\n",
    "\n",
    "| App 2 \t|  \t| Predetto \t|  \t|\n",
    "|----------\t|----\t|----------\t|-----\t|\n",
    "|  \t|  \t| -1 \t| 1 \t|\n",
    "| Misurato \t| -1 \t| 0 \t| 40 \t|\n",
    "|  \t| 1 \t| 20000 \t| 0 \t|\n",
    "| Costo \t|  \t| 20040 \t|  \t|\n",
    "  \n",
    "La prima"
   ]
  },
  {
   "attachments": {
    "image.png": {
     "image/png": "[encoded data removed]"
    }
   },
   "cell_type": "markdown",
   "metadata": {},
   "source": [
    "# Esercizio 2\n",
    "E' dato il seguente dataset, contenente 20 osservazioni, 10 di classe -1 e 10 di classe 1. Per ogni osservazione, il classificatore produce uno score, che indica la probabilità che la classe sia -1, piuttosto che 1. Sotto sono riportate le 20 osservazioni separate per classe e ordinate all’interno di\n",
    "ciascuna classe per score. \n",
    "\n",
    "![image.png](attachment:image.png)\n",
    "\n",
    "Il classifficatore sceglie la classe di apparteneza secondo questi 3 diversi metodi:\n",
    "- M1: Predice la classe +1 se la probabilità che l'osservazione è +1 è maggiore o uguale al valore di soglia t=0.1\n",
    "- M2: Predice la classe +1 se la probabilità che l'osservazione è +1 è maggiore o uguale al valore di soglia t=0.5\n",
    "- M3: Predice la classe +1 se la probabilità che l'osservazione è +1 è maggiore o uguale al valore di soglia t=0.9\n",
    "\n",
    "Attenzione: sia data un' osservazione la cui classe vera è negativa (-1) e a cui è associato uno score di 0.15. Questo significa che, per questa osservazione, il classificatore associa una probabilità di appartenere alla classe positiva (+1) pari a 0.85 (= 1-0.15)."
   ]
  },
  {
   "cell_type": "markdown",
   "metadata": {},
   "source": [
    "##  2.1 (opzionale)\n",
    "- Senza fare ancora nessun calcolo, sapete già dire quale tra i 3 metodi avrà il TPR maggiore? Quale il TPR minore?\n",
    "- Senza fare ancora nessun calcolo, sapete già dire quale tra i 3 metodi avrà il FPR maggiore? Quale il FPR minore?"
   ]
  },
  {
   "cell_type": "markdown",
   "metadata": {},
   "source": [
    "**Solution**\n"
   ]
  },
  {
   "cell_type": "markdown",
   "metadata": {},
   "source": [
    "## 2.2 \n",
    "Calcolate la matrice di confusione per ognuno dei 3 metodi. Usate carta e penna e al massimo la calcolatrice"
   ]
  },
  {
   "cell_type": "markdown",
   "metadata": {},
   "source": [
    "**Solution**  \n",
    "\n",
    "| Metodo 1 |    | predetta |    |\n",
    "|----------|----|----------|----|\n",
    "|          |    | 1        | -1 |\n",
    "| misurata | 1  | 9        | 1  |\n",
    "|          | -1 | 8        | 2  |\n",
    "\n",
    "| Metodo 2 |    | predetta |    |\n",
    "|----------|----|----------|----|\n",
    "|          |    | 1        | -1 |\n",
    "| misurata | 1  | 7        | 3  |\n",
    "|          | -1 | 5        | 5  |\n",
    "\n",
    "| Metodo 3 |    | predetta |    |\n",
    "|----------|----|----------|----|\n",
    "|          |    | 1        | -1 |\n",
    "| misurata | 1  | 1        | 9  |\n",
    "|          | -1 | 0        | 10 |"
   ]
  },
  {
   "cell_type": "markdown",
   "metadata": {},
   "source": [
    "## 2.3\n",
    "Scrivere una funzione python ``computeConfusion`` che calcoli i valori della matrice di confusione (vedere la cella sotto per capire ingressi e uscite della funzione). "
   ]
  },
  {
   "cell_type": "code",
   "execution_count": 9,
   "metadata": {},
   "outputs": [
    {
     "name": "stdout",
     "output_type": "stream",
     "text": [
      "True positive: 6\n",
      "False positive: 1\n",
      "True negative: 1\n",
      "False negative: 0\n"
     ]
    }
   ],
   "source": [
    "# Hint\n",
    "\n",
    "import numpy as np\n",
    "\n",
    "def computeConfusion(y,yhat):\n",
    "    # Inputs:\n",
    "        # y: vettore con m elementi (dove m è il numero di osservazioni) contente la classe vera {-1,1} per ogni osservazione  \n",
    "        # yhat: vettore con m elementi (dove m è il numero di osservazioni) contente la classe predetta {-1,1} per ogni osservazione  \n",
    "    # Outputs: True positive, Folse positive, True negative, False negative\n",
    "    TP = 0\n",
    "    FP = 0\n",
    "    TN = 0\n",
    "    FN = 0\n",
    "    \n",
    "    for idx, val in enumerate(y):\n",
    "        if(val == 1 and  yhat[idx] == 1):\n",
    "            TP = TP + 1\n",
    "        elif(val == -1 and yhat[idx] == 1):\n",
    "            FP = FP + 1\n",
    "        elif(val == -1 and yhat[idx] == -1):\n",
    "            TN = TN + 1\n",
    "        elif(val == 1 and yhat[idx] == -1):\n",
    "            FN = FN + 1\n",
    "            \n",
    "    ...\n",
    "    \n",
    "    return TP, FP, TN, FN\n",
    "\n",
    "# Example to test\n",
    "y = np.array([1,1,1,1,1,1,-1,-1])  \n",
    "yhat = np.array([1,1,1,1,1,1,1,-1]) \n",
    "(TP, FP, TN, FN) = computeConfusion(y,yhat)\n",
    "\n",
    "print(f\"True positive: {TP}\")\n",
    "print(f\"False positive: {FP}\")\n",
    "print(f\"True negative: {TN}\")\n",
    "print(f\"False negative: {FN}\")"
   ]
  },
  {
   "cell_type": "markdown",
   "metadata": {},
   "source": [
    "## 2.4\n",
    "Scrivere una funzione python ``computeTPRandFPR`` che calcoli i valori del TPR e FPR al variare della soglia t del classificatore (l'osservazione è attribuita alla classe 1 se la probabilità di appartenere alla classe 1 è maggiore o uguale di t). La funzione riceve in ingresso un vettore y con la classe vera della osservazioni, un vettore p con associata la probabilità di appartenere alla classe 1 attribuita dal classificatore, t: soglia del classificatore "
   ]
  },
  {
   "cell_type": "code",
   "execution_count": 10,
   "metadata": {},
   "outputs": [
    {
     "name": "stdout",
     "output_type": "stream",
     "text": [
      "True positive Rate: 1.0\n",
      "False positive Rate: 0.6666666666666666\n"
     ]
    }
   ],
   "source": [
    "# Hint\n",
    "def computeTPRandFPR(y,p,t):\n",
    "    FP = 0\n",
    "    TP = 0\n",
    "    TN = 0\n",
    "    FN = 0\n",
    "    for i in range(len(y)):\n",
    "        if(y[i] == 1 and p[i] >= t):\n",
    "            TP = TP + 1 \n",
    "        else:\n",
    "            if(y[i] == -1 and p[i] < t):\n",
    "                TN = TN + 1\n",
    "            else:\n",
    "                if(y[i] == 1 and yhat[i] < t):\n",
    "                    FN = FN + 1\n",
    "                else:\n",
    "                    FP = FP + 1\n",
    "    TPR = TP/(TP+FN)\n",
    "    FPR = FP/(TN+FP)\n",
    "    return TPR, FPR\n",
    "\n",
    "# Example to test\n",
    "y = np.array([1,1,1,1,1,1,-1,-1])  \n",
    "p = np.array([0.9,0.85,0.8,0.7,0.5,0.4,0.6,0.1]) \n",
    "t = 0.5\n",
    "\n",
    "(TPR, FPR) = computeTPRandFPR(y,p,t)\n",
    "\n",
    "print(f\"True positive Rate: {TPR}\")\n",
    "print(f\"False positive Rate: {FPR}\")"
   ]
  },
  {
   "cell_type": "markdown",
   "metadata": {
    "scrolled": true
   },
   "source": [
    "## 2.5 Esercizi con la curva ROC \n",
    "**Svolgere solo dopo che il concetto verra' introdotto a lezione (probabilmente Lunedi' 19 novembre).**\n",
    "\n",
    "### 2.5.1 (ancora con carta e penna, e al massimo plotly per fare il plot)\n",
    "\n",
    "Rappresentate su un grafico ROC le performance del classificatore per ciascuno dei 3 valori di soglia t=0.1, t=0.5, t=0.9. Nella stessa figura, rappresentate anche la curva ROC del classificatore baseline (classificatore causuale). Il nostro classificatore si comporta meglio del classificatore baseline?  "
   ]
  },
  {
   "cell_type": "code",
   "execution_count": null,
   "metadata": {},
   "outputs": [],
   "source": [
    "import plotly.offline as py\n",
    "import plotly.graph_objs as go\n",
    "py.init_notebook_mode(connected=True)\n",
    "\n",
    "\n",
    "# Solution\n"
   ]
  },
  {
   "cell_type": "code",
   "execution_count": null,
   "metadata": {},
   "outputs": [],
   "source": [
    "# Solution\n"
   ]
  },
  {
   "cell_type": "markdown",
   "metadata": {},
   "source": [
    "### 2.5.2\n",
    "\n",
    "Utilizzando la funzione``computeTPRandFPR``, disegnate la curva ROC del classificatore introdotto all'inizio dell'esercizio. Verificate i risultati ottenuti ai punti 2.1, 2,2, 2.3"
   ]
  },
  {
   "cell_type": "code",
   "execution_count": null,
   "metadata": {},
   "outputs": [],
   "source": [
    "y = np.array([-1,-1,-1,-1,-1,-1,-1,-1,-1,-1,1,1,1,1,1,1,1,1,1,1])\n",
    "p = [0.87, 0.85, 0.73,0.68,0.52,0.45,0.33,0.12,0.08,0.03,\n",
    "    0.09,0.15,0.45,0.56,0.66,0.68,0.72,0.83,0.89,0.95]\n",
    "tvec = np.linspace(0,1,11) # Possibili valori della soglia t\n",
    "\n",
    "..."
   ]
  },
  {
   "cell_type": "code",
   "execution_count": null,
   "metadata": {},
   "outputs": [],
   "source": [
    "# Solution\n"
   ]
  }
 ],
 "metadata": {
  "kernelspec": {
   "display_name": "Python 3",
   "language": "python",
   "name": "python3"
  },
  "language_info": {
   "codemirror_mode": {
    "name": "ipython",
    "version": 3
   },
   "file_extension": ".py",
   "mimetype": "text/x-python",
   "name": "python",
   "nbconvert_exporter": "python",
   "pygments_lexer": "ipython3",
   "version": "3.7.1"
  }
 },
 "nbformat": 4,
 "nbformat_minor": 2
}
