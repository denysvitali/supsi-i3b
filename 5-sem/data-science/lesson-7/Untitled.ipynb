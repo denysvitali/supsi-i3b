{
 "cells": [
  {
   "cell_type": "markdown",
   "metadata": {},
   "source": [
    "# Progetto di Data Science\n",
    "## Dataset  \n",
    "\n",
    "### Introduzione\n",
    "Lavorando per un'azienda di informatica medicale, mi è possibile ricavare un dataset creato ad-hoc al fine di effettuare analisi su dati di pazienti anonimizzati. Allo stato attuale il dataset non è presente (la raccolta dati dovrebbe cominciare nel giro di qualche settimana).\n",
    "\n",
    "### Reperibilità del dataset  \n",
    "\n",
    "Trattandosi di un dataset particolare, parte della Intellectual Property dell'azienda per la quale lavoro, dovrò svolgere il lavoro (presumibilmente) sotto alcune particolari condizioni che esporrò appena il mio team mi riferirà le modalità di svolgimento del progetto.  \n",
    "\n",
    "### Numero di osservazioni  \n",
    "Il numero di osservazioni non è al momento conosciuto: ci sarà possibile effettuare delle misurazioni continue ad una frequenza di 50Hz, per svariate ore al giorno. Il numero di pazienti nel dataset è ancora sconosciuto, così come i loro dati medici che potrò analizzare. Sarà però interessante, una volta ottenuto il dataset di dati medici, correlarli alle misurazioni effettuate durante il periodo di analisi.\n",
    "  \n",
    "### Attributi disponibili\n",
    "Allo stato attuale non sono a conoscenza dei dati medici a mia disposizione. So però con discreta sicurezza che potrò avere un dataset di alcuni parametri vitali continui (Heart Rate, SpO2%, Plethysmograph)"
   ]
  }
 ],
 "metadata": {
  "kernelspec": {
   "display_name": "Python 3",
   "language": "python",
   "name": "python3"
  },
  "language_info": {
   "codemirror_mode": {
    "name": "ipython",
    "version": 3
   },
   "file_extension": ".py",
   "mimetype": "text/x-python",
   "name": "python",
   "nbconvert_exporter": "python",
   "pygments_lexer": "ipython3",
   "version": "3.7.0"
  }
 },
 "nbformat": 4,
 "nbformat_minor": 2
}
